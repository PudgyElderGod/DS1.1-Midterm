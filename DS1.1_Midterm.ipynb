{
 "cells": [
  {
   "cell_type": "markdown",
   "metadata": {},
   "source": [
    "# DS1.1 Midterm\n",
    "### _Data Visualization and You._\n",
    "--------\n",
    "## Assignment:\n",
    "* Create a presentation in a Jupyter Notebook using data visualizations and other techniques that allow non-technical team members to understand your findings. \n",
    "* Answer at least five questions about the dataset and explain any conclusions and actionables that result from this.\n",
    "* Have a decent time figuring out how to manipulate datasets."
   ]
  },
  {
   "cell_type": "code",
   "execution_count": 106,
   "metadata": {},
   "outputs": [
    {
     "data": {
      "text/html": [
       "<div>\n",
       "<style scoped>\n",
       "    .dataframe tbody tr th:only-of-type {\n",
       "        vertical-align: middle;\n",
       "    }\n",
       "\n",
       "    .dataframe tbody tr th {\n",
       "        vertical-align: top;\n",
       "    }\n",
       "\n",
       "    .dataframe thead th {\n",
       "        text-align: right;\n",
       "    }\n",
       "</style>\n",
       "<table border=\"1\" class=\"dataframe\">\n",
       "  <thead>\n",
       "    <tr style=\"text-align: right;\">\n",
       "      <th></th>\n",
       "      <th>ID</th>\n",
       "      <th>Location</th>\n",
       "      <th>Track</th>\n",
       "      <th>Week</th>\n",
       "      <th>Rating (Num)</th>\n",
       "      <th>Schedule Pacing</th>\n",
       "    </tr>\n",
       "  </thead>\n",
       "  <tbody>\n",
       "    <tr>\n",
       "      <th>0</th>\n",
       "      <td>134</td>\n",
       "      <td>San Francisco</td>\n",
       "      <td>Apps, Explorer</td>\n",
       "      <td>Week 1</td>\n",
       "      <td>3</td>\n",
       "      <td>Just right</td>\n",
       "    </tr>\n",
       "    <tr>\n",
       "      <th>1</th>\n",
       "      <td>36</td>\n",
       "      <td>Los Angeles</td>\n",
       "      <td>Apps</td>\n",
       "      <td>Week 1</td>\n",
       "      <td>4</td>\n",
       "      <td>A little too fast</td>\n",
       "    </tr>\n",
       "    <tr>\n",
       "      <th>2</th>\n",
       "      <td>117</td>\n",
       "      <td>San Francisco</td>\n",
       "      <td>Games</td>\n",
       "      <td>Week 1</td>\n",
       "      <td>4</td>\n",
       "      <td>Way too slow</td>\n",
       "    </tr>\n",
       "    <tr>\n",
       "      <th>3</th>\n",
       "      <td>253</td>\n",
       "      <td>NaN</td>\n",
       "      <td>NaN</td>\n",
       "      <td>Week 2</td>\n",
       "      <td>4</td>\n",
       "      <td>A little too fast</td>\n",
       "    </tr>\n",
       "    <tr>\n",
       "      <th>4</th>\n",
       "      <td>350</td>\n",
       "      <td>New York City</td>\n",
       "      <td>Apps, Explorer</td>\n",
       "      <td>Week 1</td>\n",
       "      <td>4</td>\n",
       "      <td>Just right</td>\n",
       "    </tr>\n",
       "  </tbody>\n",
       "</table>\n",
       "</div>"
      ],
      "text/plain": [
       "    ID       Location           Track    Week  Rating (Num)    Schedule Pacing\n",
       "0  134  San Francisco  Apps, Explorer  Week 1             3         Just right\n",
       "1   36    Los Angeles            Apps  Week 1             4  A little too fast\n",
       "2  117  San Francisco           Games  Week 1             4       Way too slow\n",
       "3  253            NaN             NaN  Week 2             4  A little too fast\n",
       "4  350  New York City  Apps, Explorer  Week 1             4         Just right"
      ]
     },
     "execution_count": 106,
     "metadata": {},
     "output_type": "execute_result"
    }
   ],
   "source": [
    "import pandas as pd\n",
    "import numpy as np\n",
    "import seaborn as sns\n",
    "import matplotlib.pyplot as plt\n",
    "\n",
    "df = pd.read_csv('SAFeedback_Surveys_FINAL/2017/Student_Feedback_Surveys-Superview.csv')\n",
    "df[\"Rating (Num)\"] = df[\"Rating (Num)\"].apply(lambda x: int(x) if (x != \"#ERROR!\") else 5)\n",
    "# We Might as well take this opportunity to check out the data.\n",
    "df.head()"
   ]
  },
  {
   "cell_type": "markdown",
   "metadata": {},
   "source": [
    "## What Sorts of Information Does This Dataset Contain?\n",
    "--------\n",
    "### This datset contains a lot of very useful macro data about the program. In terms of raw performance and reception, we have most of the data we'd need to make judgement calls about:\n",
    "    - What the overall reception of this program was\n",
    "    - Which facilities require more atention\n",
    "    - Which parts of the program need to be touched up\n",
    "    - Which tracks need some love\n",
    "--------\n",
    "### Let's explore this data a bit further!"
   ]
  },
  {
   "cell_type": "markdown",
   "metadata": {},
   "source": [
    "# On to the Questions!"
   ]
  },
  {
   "cell_type": "markdown",
   "metadata": {},
   "source": [
    "## Getting the Net Promoter Store(NPS)\n",
    "### NPS is calculated like so\n",
    "---------------------------------------------\n",
    "* First, it is separated into three categories:\n",
    "\n",
    "    - Promoters (Ratings 9-10)\n",
    "    - Passives (Rating 7-8)\n",
    "    - Detractors (Rating1-6)\n",
    "\n",
    "* Then we calculate the perentage of each category by dividing each category by the total responses.\n",
    "* Finally, we subtract the detractors percentage from the promoters percentage."
   ]
  },
  {
   "cell_type": "code",
   "execution_count": 107,
   "metadata": {
    "scrolled": true
   },
   "outputs": [
    {
     "data": {
      "text/plain": [
       "Promoter     760\n",
       "Passive      569\n",
       "Detractor    124\n",
       "Name: NPS_Categories, dtype: int64"
      ]
     },
     "execution_count": 107,
     "metadata": {},
     "output_type": "execute_result"
    }
   ],
   "source": [
    "#Here we do the first part, sorting things into categories.\n",
    "df[\"NPS_Categories\"] = df[\"Rating (Num)\"].apply(lambda x: \"Promoter\" if (x >= 9) \n",
    "                                             else (\"Detractor\" if x <= 6 \n",
    "                                              else \"Passive\"))\n",
    "\n",
    "df[\"NPS_Categories\"].value_counts()"
   ]
  },
  {
   "cell_type": "code",
   "execution_count": 108,
   "metadata": {},
   "outputs": [],
   "source": [
    "#Now let's get those percentages. We're ignoring the Passives because they're not cool enough to matter.\n",
    "Total = (760 + 569 + 124)\n",
    "Promoters = 760\n",
    "Detractors = 124\n",
    "NPS = (Promoters - Detractors) / Total"
   ]
  },
  {
   "cell_type": "code",
   "execution_count": 109,
   "metadata": {},
   "outputs": [
    {
     "data": {
      "text/plain": [
       "0.4377150722642808"
      ]
     },
     "execution_count": 109,
     "metadata": {},
     "output_type": "execute_result"
    }
   ],
   "source": [
    "#Now we get the NPS!\n",
    "NPS"
   ]
  },
  {
   "cell_type": "code",
   "execution_count": 110,
   "metadata": {},
   "outputs": [
    {
     "data": {
      "image/png": "[encoded data removed]",
      "text/plain": [
       "<Figure size 432x288 with 1 Axes>"
      ]
     },
     "metadata": {
      "needs_background": "light"
     },
     "output_type": "display_data"
    }
   ],
   "source": [
    "#For shits and giggles, let's visualize the responses. And let's make it pretty.\n",
    "plt.show(sns.countplot(df[\"NPS_Categories\"], palette = \"nipy_spectral_r\"))"
   ]
  },
  {
   "cell_type": "markdown",
   "metadata": {},
   "source": [
    "## Which Track is the Most Popular?\n",
    "### Calculating Track Popularity\n",
    "----------------------------------\n",
    "While we're dealing with Promoters and all that, we may as well take a peek at which track people liked the most."
   ]
  },
  {
   "cell_type": "code",
   "execution_count": 121,
   "metadata": {},
   "outputs": [
    {
     "data": {
      "text/html": [
       "<div>\n",
       "<style scoped>\n",
       "    .dataframe tbody tr th:only-of-type {\n",
       "        vertical-align: middle;\n",
       "    }\n",
       "\n",
       "    .dataframe tbody tr th {\n",
       "        vertical-align: top;\n",
       "    }\n",
       "\n",
       "    .dataframe thead th {\n",
       "        text-align: right;\n",
       "    }\n",
       "</style>\n",
       "<table border=\"1\" class=\"dataframe\">\n",
       "  <thead>\n",
       "    <tr style=\"text-align: right;\">\n",
       "      <th>NPS_Categories</th>\n",
       "      <th>Detractor</th>\n",
       "      <th>Passive</th>\n",
       "      <th>Promoter</th>\n",
       "    </tr>\n",
       "    <tr>\n",
       "      <th>Track</th>\n",
       "      <th></th>\n",
       "      <th></th>\n",
       "      <th></th>\n",
       "    </tr>\n",
       "  </thead>\n",
       "  <tbody>\n",
       "    <tr>\n",
       "      <th>Apps</th>\n",
       "      <td>0.089552</td>\n",
       "      <td>0.407577</td>\n",
       "      <td>0.502870</td>\n",
       "    </tr>\n",
       "    <tr>\n",
       "      <th>Apps, Explorer</th>\n",
       "      <td>0.107143</td>\n",
       "      <td>0.486607</td>\n",
       "      <td>0.406250</td>\n",
       "    </tr>\n",
       "    <tr>\n",
       "      <th>Games</th>\n",
       "      <td>0.043269</td>\n",
       "      <td>0.317308</td>\n",
       "      <td>0.639423</td>\n",
       "    </tr>\n",
       "    <tr>\n",
       "      <th>Games, Explorer</th>\n",
       "      <td>0.000000</td>\n",
       "      <td>0.279070</td>\n",
       "      <td>0.720930</td>\n",
       "    </tr>\n",
       "    <tr>\n",
       "      <th>VR</th>\n",
       "      <td>0.033333</td>\n",
       "      <td>0.200000</td>\n",
       "      <td>0.766667</td>\n",
       "    </tr>\n",
       "  </tbody>\n",
       "</table>\n",
       "</div>"
      ],
      "text/plain": [
       "NPS_Categories   Detractor   Passive  Promoter\n",
       "Track                                         \n",
       "Apps              0.089552  0.407577  0.502870\n",
       "Apps, Explorer    0.107143  0.486607  0.406250\n",
       "Games             0.043269  0.317308  0.639423\n",
       "Games, Explorer   0.000000  0.279070  0.720930\n",
       "VR                0.033333  0.200000  0.766667"
      ]
     },
     "execution_count": 121,
     "metadata": {},
     "output_type": "execute_result"
    }
   ],
   "source": [
    "#This really isn't hard. Just setting up a decent crosstab.\n",
    "pd.crosstab(df[\"Track\"], df[\"NPS_Categories\"], normalize=\"index\")"
   ]
  },
  {
   "cell_type": "code",
   "execution_count": 122,
   "metadata": {},
   "outputs": [
    {
     "data": {
      "image/png": "[encoded data removed]",
      "text/plain": [
       "<Figure size 432x288 with 1 Axes>"
      ]
     },
     "metadata": {
      "needs_background": "light"
     },
     "output_type": "display_data"
    }
   ],
   "source": [
    "#Looks like 'VR' Track barely eked out a win! Let's get a graph going so we can see it more clearly.\n",
    "plt.show(sns.countplot(\"Track\", hue=\"NPS_Categories\", data=df, palette = \"plasma\"))"
   ]
  },
  {
   "cell_type": "markdown",
   "metadata": {},
   "source": [
    "## Satisfaction and Location: Are They Linked?\n",
    "-----------\n",
    "##### Reasonable Money is on yes."
   ]
  },
  {
   "cell_type": "code",
   "execution_count": 123,
   "metadata": {},
   "outputs": [
    {
     "data": {
      "text/html": [
       "<div>\n",
       "<style scoped>\n",
       "    .dataframe tbody tr th:only-of-type {\n",
       "        vertical-align: middle;\n",
       "    }\n",
       "\n",
       "    .dataframe tbody tr th {\n",
       "        vertical-align: top;\n",
       "    }\n",
       "\n",
       "    .dataframe thead th {\n",
       "        text-align: right;\n",
       "    }\n",
       "</style>\n",
       "<table border=\"1\" class=\"dataframe\">\n",
       "  <thead>\n",
       "    <tr style=\"text-align: right;\">\n",
       "      <th>NPS_Categories</th>\n",
       "      <th>Detractor</th>\n",
       "      <th>Passive</th>\n",
       "      <th>Promoter</th>\n",
       "    </tr>\n",
       "    <tr>\n",
       "      <th>Location</th>\n",
       "      <th></th>\n",
       "      <th></th>\n",
       "      <th></th>\n",
       "    </tr>\n",
       "  </thead>\n",
       "  <tbody>\n",
       "    <tr>\n",
       "      <th>Atlanta</th>\n",
       "      <td>0.000000</td>\n",
       "      <td>0.272727</td>\n",
       "      <td>0.727273</td>\n",
       "    </tr>\n",
       "    <tr>\n",
       "      <th>Beijing</th>\n",
       "      <td>0.000000</td>\n",
       "      <td>0.320513</td>\n",
       "      <td>0.679487</td>\n",
       "    </tr>\n",
       "    <tr>\n",
       "      <th>Chicago</th>\n",
       "      <td>0.057143</td>\n",
       "      <td>0.414286</td>\n",
       "      <td>0.528571</td>\n",
       "    </tr>\n",
       "    <tr>\n",
       "      <th>Hong Kong</th>\n",
       "      <td>0.272727</td>\n",
       "      <td>0.636364</td>\n",
       "      <td>0.090909</td>\n",
       "    </tr>\n",
       "    <tr>\n",
       "      <th>Los Angeles</th>\n",
       "      <td>0.047170</td>\n",
       "      <td>0.311321</td>\n",
       "      <td>0.641509</td>\n",
       "    </tr>\n",
       "    <tr>\n",
       "      <th>New York City</th>\n",
       "      <td>0.106061</td>\n",
       "      <td>0.412121</td>\n",
       "      <td>0.481818</td>\n",
       "    </tr>\n",
       "    <tr>\n",
       "      <th>Oakland</th>\n",
       "      <td>0.042553</td>\n",
       "      <td>0.382979</td>\n",
       "      <td>0.574468</td>\n",
       "    </tr>\n",
       "    <tr>\n",
       "      <th>Redwood City</th>\n",
       "      <td>0.086207</td>\n",
       "      <td>0.396552</td>\n",
       "      <td>0.517241</td>\n",
       "    </tr>\n",
       "    <tr>\n",
       "      <th>San Francisco</th>\n",
       "      <td>0.086111</td>\n",
       "      <td>0.375000</td>\n",
       "      <td>0.538889</td>\n",
       "    </tr>\n",
       "    <tr>\n",
       "      <th>Santa Clara</th>\n",
       "      <td>0.064677</td>\n",
       "      <td>0.472637</td>\n",
       "      <td>0.462687</td>\n",
       "    </tr>\n",
       "    <tr>\n",
       "      <th>Tokyo</th>\n",
       "      <td>0.138462</td>\n",
       "      <td>0.353846</td>\n",
       "      <td>0.507692</td>\n",
       "    </tr>\n",
       "    <tr>\n",
       "      <th>Washington DC</th>\n",
       "      <td>0.127660</td>\n",
       "      <td>0.446809</td>\n",
       "      <td>0.425532</td>\n",
       "    </tr>\n",
       "  </tbody>\n",
       "</table>\n",
       "</div>"
      ],
      "text/plain": [
       "NPS_Categories  Detractor   Passive  Promoter\n",
       "Location                                     \n",
       "Atlanta          0.000000  0.272727  0.727273\n",
       "Beijing          0.000000  0.320513  0.679487\n",
       "Chicago          0.057143  0.414286  0.528571\n",
       "Hong Kong        0.272727  0.636364  0.090909\n",
       "Los Angeles      0.047170  0.311321  0.641509\n",
       "New York City    0.106061  0.412121  0.481818\n",
       "Oakland          0.042553  0.382979  0.574468\n",
       "Redwood City     0.086207  0.396552  0.517241\n",
       "San Francisco    0.086111  0.375000  0.538889\n",
       "Santa Clara      0.064677  0.472637  0.462687\n",
       "Tokyo            0.138462  0.353846  0.507692\n",
       "Washington DC    0.127660  0.446809  0.425532"
      ]
     },
     "execution_count": 123,
     "metadata": {},
     "output_type": "execute_result"
    }
   ],
   "source": [
    "#Another problem easily solvable with a crosstable, baby.\n",
    "Location = pd.crosstab(df[\"Location\"], df[\"NPS_Categories\"], normalize=\"index\")\n",
    "Location"
   ]
  },
  {
   "cell_type": "code",
   "execution_count": 114,
   "metadata": {},
   "outputs": [
    {
     "data": {
      "image/png": "[encoded data removed]",
      "text/plain": [
       "<Figure size 432x288 with 2 Axes>"
      ]
     },
     "metadata": {
      "needs_background": "light"
     },
     "output_type": "display_data"
    }
   ],
   "source": [
    "#Let's take a second to make everything easier on the eyes.\n",
    "plt.show(sns.heatmap(Location, cmap=\"icefire\"))"
   ]
  },
  {
   "cell_type": "markdown",
   "metadata": {},
   "source": [
    "Man, students in Atlanta seemed _vastly_ more satisfied with the experience than most anywhere save Beijing. "
   ]
  },
  {
   "cell_type": "markdown",
   "metadata": {},
   "source": [
    "## Experience over time\n",
    "-----------------\n",
    "How does student experience shape up over the course of the program?"
   ]
  },
  {
   "cell_type": "code",
   "execution_count": 115,
   "metadata": {},
   "outputs": [
    {
     "data": {
      "text/html": [
       "<div>\n",
       "<style scoped>\n",
       "    .dataframe tbody tr th:only-of-type {\n",
       "        vertical-align: middle;\n",
       "    }\n",
       "\n",
       "    .dataframe tbody tr th {\n",
       "        vertical-align: top;\n",
       "    }\n",
       "\n",
       "    .dataframe thead th {\n",
       "        text-align: right;\n",
       "    }\n",
       "</style>\n",
       "<table border=\"1\" class=\"dataframe\">\n",
       "  <thead>\n",
       "    <tr style=\"text-align: right;\">\n",
       "      <th>Week</th>\n",
       "      <th>Week 1</th>\n",
       "      <th>Week 2</th>\n",
       "      <th>Week 3</th>\n",
       "      <th>Week 4</th>\n",
       "      <th>Week 5</th>\n",
       "      <th>Week 6</th>\n",
       "      <th>Week 7</th>\n",
       "      <th>Week 8</th>\n",
       "    </tr>\n",
       "    <tr>\n",
       "      <th>Rating (Num)</th>\n",
       "      <th></th>\n",
       "      <th></th>\n",
       "      <th></th>\n",
       "      <th></th>\n",
       "      <th></th>\n",
       "      <th></th>\n",
       "      <th></th>\n",
       "      <th></th>\n",
       "    </tr>\n",
       "  </thead>\n",
       "  <tbody>\n",
       "    <tr>\n",
       "      <th>0</th>\n",
       "      <td>0</td>\n",
       "      <td>1</td>\n",
       "      <td>0</td>\n",
       "      <td>0</td>\n",
       "      <td>1</td>\n",
       "      <td>0</td>\n",
       "      <td>0</td>\n",
       "      <td>0</td>\n",
       "    </tr>\n",
       "    <tr>\n",
       "      <th>1</th>\n",
       "      <td>0</td>\n",
       "      <td>0</td>\n",
       "      <td>1</td>\n",
       "      <td>0</td>\n",
       "      <td>0</td>\n",
       "      <td>0</td>\n",
       "      <td>1</td>\n",
       "      <td>0</td>\n",
       "    </tr>\n",
       "    <tr>\n",
       "      <th>2</th>\n",
       "      <td>0</td>\n",
       "      <td>0</td>\n",
       "      <td>0</td>\n",
       "      <td>0</td>\n",
       "      <td>1</td>\n",
       "      <td>1</td>\n",
       "      <td>0</td>\n",
       "      <td>0</td>\n",
       "    </tr>\n",
       "    <tr>\n",
       "      <th>3</th>\n",
       "      <td>1</td>\n",
       "      <td>2</td>\n",
       "      <td>1</td>\n",
       "      <td>2</td>\n",
       "      <td>0</td>\n",
       "      <td>1</td>\n",
       "      <td>1</td>\n",
       "      <td>0</td>\n",
       "    </tr>\n",
       "    <tr>\n",
       "      <th>4</th>\n",
       "      <td>6</td>\n",
       "      <td>2</td>\n",
       "      <td>0</td>\n",
       "      <td>3</td>\n",
       "      <td>2</td>\n",
       "      <td>0</td>\n",
       "      <td>0</td>\n",
       "      <td>0</td>\n",
       "    </tr>\n",
       "    <tr>\n",
       "      <th>5</th>\n",
       "      <td>9</td>\n",
       "      <td>7</td>\n",
       "      <td>7</td>\n",
       "      <td>6</td>\n",
       "      <td>4</td>\n",
       "      <td>1</td>\n",
       "      <td>4</td>\n",
       "      <td>0</td>\n",
       "    </tr>\n",
       "    <tr>\n",
       "      <th>6</th>\n",
       "      <td>12</td>\n",
       "      <td>12</td>\n",
       "      <td>13</td>\n",
       "      <td>8</td>\n",
       "      <td>7</td>\n",
       "      <td>5</td>\n",
       "      <td>2</td>\n",
       "      <td>0</td>\n",
       "    </tr>\n",
       "    <tr>\n",
       "      <th>7</th>\n",
       "      <td>40</td>\n",
       "      <td>34</td>\n",
       "      <td>22</td>\n",
       "      <td>25</td>\n",
       "      <td>22</td>\n",
       "      <td>18</td>\n",
       "      <td>15</td>\n",
       "      <td>1</td>\n",
       "    </tr>\n",
       "    <tr>\n",
       "      <th>8</th>\n",
       "      <td>91</td>\n",
       "      <td>82</td>\n",
       "      <td>64</td>\n",
       "      <td>49</td>\n",
       "      <td>45</td>\n",
       "      <td>41</td>\n",
       "      <td>19</td>\n",
       "      <td>1</td>\n",
       "    </tr>\n",
       "    <tr>\n",
       "      <th>9</th>\n",
       "      <td>61</td>\n",
       "      <td>76</td>\n",
       "      <td>69</td>\n",
       "      <td>55</td>\n",
       "      <td>45</td>\n",
       "      <td>34</td>\n",
       "      <td>41</td>\n",
       "      <td>3</td>\n",
       "    </tr>\n",
       "    <tr>\n",
       "      <th>10</th>\n",
       "      <td>68</td>\n",
       "      <td>61</td>\n",
       "      <td>66</td>\n",
       "      <td>45</td>\n",
       "      <td>52</td>\n",
       "      <td>43</td>\n",
       "      <td>37</td>\n",
       "      <td>4</td>\n",
       "    </tr>\n",
       "  </tbody>\n",
       "</table>\n",
       "</div>"
      ],
      "text/plain": [
       "Week          Week 1  Week 2  Week 3  Week 4  Week 5  Week 6  Week 7  Week 8\n",
       "Rating (Num)                                                                \n",
       "0                  0       1       0       0       1       0       0       0\n",
       "1                  0       0       1       0       0       0       1       0\n",
       "2                  0       0       0       0       1       1       0       0\n",
       "3                  1       2       1       2       0       1       1       0\n",
       "4                  6       2       0       3       2       0       0       0\n",
       "5                  9       7       7       6       4       1       4       0\n",
       "6                 12      12      13       8       7       5       2       0\n",
       "7                 40      34      22      25      22      18      15       1\n",
       "8                 91      82      64      49      45      41      19       1\n",
       "9                 61      76      69      55      45      34      41       3\n",
       "10                68      61      66      45      52      43      37       4"
      ]
     },
     "execution_count": 115,
     "metadata": {},
     "output_type": "execute_result"
    }
   ],
   "source": [
    "#How about we not mix it up and just go with the usual, eh?\n",
    "pd.crosstab(df[\"Rating (Num)\"], df[\"Week\"])"
   ]
  },
  {
   "cell_type": "code",
   "execution_count": 116,
   "metadata": {},
   "outputs": [
    {
     "data": {
      "image/png": "[encoded data removed]",
      "text/plain": [
       "<Figure size 432x288 with 1 Axes>"
      ]
     },
     "metadata": {
      "needs_background": "light"
     },
     "output_type": "display_data"
    }
   ],
   "source": [
    "#Hmm, it looks like people fall off in interest a bit around weeks 3 and 4.\n",
    "#Lets make this a bit more understandable.\n",
    "Weeks = sorted(df[\"Week\"].unique())\n",
    "means = []\n",
    "for week in weeks:\n",
    "    means.append(df[df.Week == week][\"Rating (Num)\"].mean())\n",
    "plt.show(sns.lineplot(weeks, means))"
   ]
  },
  {
   "cell_type": "markdown",
   "metadata": {},
   "source": [
    "## What Questions _Can't_ We Answer With This Dataset\n",
    "#### To reiterate, this Dataset is very good for Macro Data. What this lacks, however, is the micro data. We won't be able to use this to get into the smaller details like:\n",
    "    - What exact parts of the track worked and what parts didn't?\n",
    "    - What caused a dip in interest between weeks 3 and 4?\n",
    "    - What did the Atlanta and Beijing locations do differently that caused their approval to be higher?\n",
    "----------\n",
    "#### Answering these questions would likely require more fine-tuned surveys, which leads me to the next part..."
   ]
  },
  {
   "cell_type": "markdown",
   "metadata": {},
   "source": [
    "## Actionables and Conclusions\n",
    "#### Based on the data we have here, and what we don't have, we can take the following actions:\n",
    "    - The Atlanta and Beijing locations should be examined for what caused them to perform anomalously well.\n",
    "    - The Hong Kong location should be investigated for the exact opposite reasons.\n",
    "    - Additional surveys should be done to determine why there was a lack of interest in weeks 3-4.\n",
    "    - The Tracks for Games, Apps, and Apps/Explorer need to be fine-tuned to raise interest and performance."
   ]
  },
  {
   "cell_type": "markdown",
   "metadata": {},
   "source": [
    "## Presentation in an Understandable Way\n",
    "#### Presenting huge blocks of code to nontechnical individuals is always a bit of a problem. \n",
    "#### Programs like Jupyter Notebook allow us to visualize things a bit more clearly, and the use of graphs always helps. Beyond this, it wouldn't be _too_ difficult to present this data through a powerpoint presentation, so long as the graphs are clearly labled and visible."
   ]
  },
  {
   "cell_type": "code",
   "execution_count": null,
   "metadata": {},
   "outputs": [],
   "source": []
  },
  {
   "cell_type": "code",
   "execution_count": null,
   "metadata": {},
   "outputs": [],
   "source": []
  },
  {
   "cell_type": "code",
   "execution_count": null,
   "metadata": {},
   "outputs": [],
   "source": []
  }
 ],
 "metadata": {
  "kernelspec": {
   "display_name": "Python 3",
   "language": "python",
   "name": "python3"
  },
  "language_info": {
   "codemirror_mode": {
    "name": "ipython",
    "version": 3
   },
   "file_extension": ".py",
   "mimetype": "text/x-python",
   "name": "python",
   "nbconvert_exporter": "python",
   "pygments_lexer": "ipython3",
   "version": "3.7.4"
  }
 },
 "nbformat": 4,
 "nbformat_minor": 4
}
